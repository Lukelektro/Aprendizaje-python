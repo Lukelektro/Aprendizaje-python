{
 "cells": [
  {
   "cell_type": "code",
   "execution_count": 1,
   "id": "59c2850c-7fc7-4ff2-a9fa-7ab1ae3f7d18",
   "metadata": {},
   "outputs": [
    {
     "name": "stdout",
     "output_type": "stream",
     "text": [
      "\n",
      "Bienvenido a la panaderia, seleccione el tipo de pan que llevará:\n",
      "1.- Amasado : 1500\n",
      "2.- Molde : 1000\n",
      "3.- Baguette : 2000\n",
      "4.- Integral : 3000\n",
      "5.- Total\n",
      "6.- Salir\n",
      "    \n"
     ]
    }
   ],
   "source": [
    "import time\n",
    "opc = 0\n",
    "\n",
    "while opc == 0:\n",
    "    print(\"\"\"\n",
    "Bienvenido a la panaderia, seleccione el tipo de pan que llevará:\n",
    "1.- Amasado : 1500\n",
    "2.- Molde : 1000\n",
    "3.- Baguette : 2000\n",
    "4.- Integral : 3000\n",
    "5.- Total\n",
    "6.- Salir\n",
    "    \"\"\")\n",
    "    opc = int(input(\"ingrese una opción porfavor\"))    "
   ]
  },
  {
   "cell_type": "code",
   "execution_count": 2,
   "id": "2c75f599-6950-4514-8a67-93ab80ce3f65",
   "metadata": {},
   "outputs": [
    {
     "name": "stdout",
     "output_type": "stream",
     "text": [
      "entendido, la cantidad ingresada es 20, dando un total de 20000, se le redireccionará al menú\n",
      "volviendo al menu...\n"
     ]
    }
   ],
   "source": [
    "while opc == 1:\n",
    "    cant_amasado = int(input(\"ingrese la cantidad de pan que llevará ó vuelva al menu con 0\"))\n",
    "    if cant_amasado > 0:\n",
    "        total_amasado = 1500 * cant_amasado\n",
    "        print(f\"entendido, la cantidad ingresada es {cant_amasado}, dando un total de {total_amasado}, se le redireccionará al menú\")\n",
    "        time.sleep(1)\n",
    "        print(\"volviendo al menu...\")\n",
    "        time.sleep(1)\n",
    "        opc = opc - 1\n",
    "    elif cant_amasado == 0:\n",
    "        cant_amasado = 0\n",
    "        print(\"volviendo al menu...\")\n",
    "        time.sleep(1)\n",
    "        opc = opc - 1\n",
    "    else:\n",
    "        print(\"porfavor ingrese una cantidad de pan o vuelva al menú con el numero 0\")\n",
    "        \n",
    "while opc == 2:\n",
    "    cant_molde = int(input(\"ingrese la cantidad de pan que llevará ó vuelva al menu con v\"))\n",
    "    if cant_molde > 0:\n",
    "        total_molde = 1000 * cant_molde\n",
    "        print(f\"entendido, la cantidad ingresada es {cant_molde}, dando un total de {total_molde}, se le redireccionará al menú\")\n",
    "        time.sleep(1)\n",
    "        print (\"volviendo al menu...\")\n",
    "        time.sleep(1)\n",
    "        opc = opc - 2\n",
    "    elif cant_molde == 0:\n",
    "        print(\"volviendo al menu...\")\n",
    "        time.sleep(1)\n",
    "        opc = opc - 2    \n",
    "    else:\n",
    "        print(\"porfavor ingrese una cantidad de pan o vuelva al menú con el numero 0\")\n",
    "        \n",
    "while opc == 3:\n",
    "    cant_baguette = int(input(\"ingrese la cantidad de pan que llevará ó vuelva al menu con v\"))\n",
    "    if cant_baguette > 0:\n",
    "        total_baguette = 2000 * cant_baguette\n",
    "        print(f\"entendido, la cantidad ingresada es {cant_baguette}, dando un total de {total_baguette}, se le redireccionará al menú\")\n",
    "        time.sleep(1)\n",
    "        print (\"volviendo al menu...\")\n",
    "        time.sleep(1)\n",
    "        opc = opc - 3\n",
    "    elif cant_amasado == 0:\n",
    "        print(\"volviendo al menu...\")\n",
    "        time.sleep(1)\n",
    "        opc = opc - 3   \n",
    "    else:\n",
    "        print(\"porfavor ingrese una cantidad de pan o vuelva al menú con el numero 0\")\n",
    "        \n",
    "while opc == 4:\n",
    "    cant_integral = int(input(\"ingrese la cantidad de pan que llevará ó vuelva al menu con 0\"))\n",
    "    if cant_integral > 0:\n",
    "        total_integral = 3000 * cant_integral\n",
    "        print(f\"entendido, la cantidad ingresada es {cant_integral}, dando un total de {total_integral}, se le redireccionará al menú\")\n",
    "        time.sleep(1)\n",
    "        print (\"volviendo al menu...\")\n",
    "        time.sleep(1)\n",
    "        opc = opc - 4\n",
    "    elif cant_integral == 0:\n",
    "        cant_integral = 0\n",
    "        print(\"volviendo al menu...\")\n",
    "        time.sleep(1)\n",
    "        opc = opc - 4   \n",
    "    else:\n",
    "        print(\"porfavor ingrese una cantidad de pan o vuelva al menú con el numero 0\")  "
   ]
  },
  {
   "cell_type": "code",
   "execution_count": null,
   "id": "4407f4ed-9259-4e07-9e8c-cc50335d9b59",
   "metadata": {},
   "outputs": [
    {
     "name": "stdout",
     "output_type": "stream",
     "text": [
      "numero equivocado, reintente\n"
     ]
    }
   ],
   "source": [
    "if opc == 5:\n",
    "    total_venta = total_amasado + total_molde + total_baguette + total_integral\n",
    "    print(f\"\"\"\n",
    "Total de la venta:\n",
    "Cantidad de panes amasados = {cant_amasado} total = {total_amasado}\n",
    "Cantidad de panes amasados = {cant_molde} total = {total_molde}\n",
    "Cantidad de panes amasados = {cant_baguette} total = {total_baguette}\n",
    "Cantidad de panes amasados = {cant_integral} total = {total_integral}\n",
    "Total venta = {total_venta}\n",
    "\"\"\")\n",
    "    deliv = input(\"delivery? = s/n\")\n",
    "    if deliv == \"s\":\n",
    "        if total_venta > 5000:\n",
    "            print(\"ya que su compra fue mayor a 5000, el envio es gratis!\")\n",
    "            time.sleep(1)\n",
    "            print(\"imprimiendo comprobante...\")\n",
    "        else:\n",
    "            print(f\"el total a pagar con delivery incluido es: {total_venta * 0.10}\")\n",
    "    else:\n",
    "        print(f\"su total a pagar es: {total_venta}\")\n",
    "        time.sleep(1)\n",
    "        print(\"imprimiendo comprobante...\")\n",
    "        \n",
    "elif opc == 6:\n",
    "    print(\"Tenga un buen dia\")\n",
    "    \n",
    "elif opc > 6:\n",
    "    print(\"numero equivocado, reintente\")\n",
    "    opc = opc - opc"
   ]
  }
 ],
 "metadata": {
  "kernelspec": {
   "display_name": "Python 3",
   "language": "python",
   "name": "python3"
  },
  "language_info": {
   "codemirror_mode": {
    "name": "ipython",
    "version": 3
   },
   "file_extension": ".py",
   "mimetype": "text/x-python",
   "name": "python",
   "nbconvert_exporter": "python",
   "pygments_lexer": "ipython3",
   "version": "3.10.11"
  }
 },
 "nbformat": 4,
 "nbformat_minor": 5
}
