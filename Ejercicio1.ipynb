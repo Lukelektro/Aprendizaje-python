{
 "cells": [
  {
   "cell_type": "code",
   "execution_count": 6,
   "id": "9dfcdc2e-59b4-4696-a7da-852adcadc593",
   "metadata": {},
   "outputs": [],
   "source": [
    "def resta(num1, num2):\n",
    "    return num1 - num2\n",
    "\n",
    "def suma(num1, num2):\n",
    "    return num1 + num2\n",
    "\n",
    "def multiplicacion(num1, num2):\n",
    "    return num1 * num2"
   ]
  },
  {
   "cell_type": "code",
   "execution_count": 7,
   "id": "0a0c7fb2-75f2-4bb6-8583-545962f02017",
   "metadata": {},
   "outputs": [
    {
     "name": "stdin",
     "output_type": "stream",
     "text": [
      "\n",
      "Bienvenido a la calculadora mas basica del mundo\n",
      "Porfavor, ingrese una opción a utilizar:\n",
      "1.- Suma\n",
      "2.- Resta\n",
      "3.- Multiplicar\n",
      "4.- Salir\n",
      "         1\n",
      "porfavor ingrese el primer numero a sumar:  2\n",
      "porfavor ingrese el segundo numero a sumar:  2\n"
     ]
    },
    {
     "name": "stdout",
     "output_type": "stream",
     "text": [
      "el resultado de la suma de 2 + 2 es = 4\n"
     ]
    }
   ],
   "source": [
    "def calculadora():\n",
    "    flag = True\n",
    "    while flag == True:\n",
    "        opc = int(input(\"\"\"\n",
    "Bienvenido a la calculadora mas basica del mundo\n",
    "Porfavor, ingrese una opción a utilizar:\n",
    "1.- Suma\n",
    "2.- Resta\n",
    "3.- Multiplicar\n",
    "4.- Salir\n",
    "        \"\"\"))\n",
    "        if opc == 1:\n",
    "            num1 = int(input(\"porfavor ingrese el primer numero a sumar: \"))\n",
    "            num2 = int(input(\"porfavor ingrese el segundo numero a sumar: \"))\n",
    "            resultado = suma(num1, num2)\n",
    "            print(f\"el resultado de la suma de {num1} + {num2} es = {resultado}\")\n",
    "            break\n",
    "        if opc == 3:\n",
    "            num1 = input(\"porfavor ingrese el primer numero a multiplicar: \")\n",
    "            num2 = input(\"porfavor ingrese el segundo numero a multiplicar: \")\n",
    "            resultado = multiplicacion(num1, num2)\n",
    "            print(f\"el resultado de la suma de {num1} + {num2} es = {resultado}\")\n",
    "            break            \n",
    "        else:\n",
    "            print(\"porfavor, indique un numero del menu\")     \n",
    "calculadora()                  \n",
    "\n",
    "    "
   ]
  }
 ],
 "metadata": {
  "kernelspec": {
   "display_name": "Python 3 (ipykernel)",
   "language": "python",
   "name": "python3"
  },
  "language_info": {
   "codemirror_mode": {
    "name": "ipython",
    "version": 3
   },
   "file_extension": ".py",
   "mimetype": "text/x-python",
   "name": "python",
   "nbconvert_exporter": "python",
   "pygments_lexer": "ipython3",
   "version": "3.10.9"
  }
 },
 "nbformat": 4,
 "nbformat_minor": 5
}
